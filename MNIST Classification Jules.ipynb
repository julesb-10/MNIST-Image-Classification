{
 "cells": [
  {
   "cell_type": "code",
   "execution_count": 7,
   "id": "75eb8b53-ce4e-44b5-b21d-ae2f9dbfedd1",
   "metadata": {},
   "outputs": [],
   "source": [
    "import numpy as np\n",
    "import pandas as pd\n",
    "import matplotlib.pyplot as plt"
   ]
  },
  {
   "cell_type": "code",
   "execution_count": 8,
   "id": "fd137827-2f0f-4cc5-b33b-cf89f1702ea2",
   "metadata": {},
   "outputs": [
    {
     "name": "stderr",
     "output_type": "stream",
     "text": [
      "2024-07-11 10:39:59.413129: I tensorflow/core/platform/cpu_feature_guard.cc:182] This TensorFlow binary is optimized to use available CPU instructions in performance-critical operations.\n",
      "To enable the following instructions: SSE4.1 SSE4.2 AVX AVX2 FMA, in other operations, rebuild TensorFlow with the appropriate compiler flags.\n"
     ]
    }
   ],
   "source": [
    "from tensorflow.keras.datasets import mnist"
   ]
  },
  {
   "cell_type": "code",
   "execution_count": 9,
   "id": "1e349a25-818f-489b-b00a-023c74b5ecaa",
   "metadata": {},
   "outputs": [],
   "source": [
    "#unpacking data:\n",
    "(x_train, y_train), (x_test, y_test) = mnist.load_data()"
   ]
  },
  {
   "cell_type": "code",
   "execution_count": 10,
   "id": "3aa35488-5df0-43ac-8c6a-1cb98e11c727",
   "metadata": {},
   "outputs": [
    {
     "data": {
      "text/plain": [
       "(60000, 28, 28)"
      ]
     },
     "execution_count": 10,
     "metadata": {},
     "output_type": "execute_result"
    }
   ],
   "source": [
    "x_train.shape"
   ]
  },
  {
   "cell_type": "code",
   "execution_count": 11,
   "id": "a1af62e4-25ec-4014-a17b-8481c45129b0",
   "metadata": {},
   "outputs": [
    {
     "data": {
      "text/plain": [
       "(60000,)"
      ]
     },
     "execution_count": 11,
     "metadata": {},
     "output_type": "execute_result"
    }
   ],
   "source": [
    "y_train.shape"
   ]
  },
  {
   "cell_type": "code",
   "execution_count": 12,
   "id": "fa30449d-7cd4-456a-80b1-9e252f4038bb",
   "metadata": {},
   "outputs": [
    {
     "data": {
      "text/plain": [
       "<matplotlib.image.AxesImage at 0x7facef9146d0>"
      ]
     },
     "execution_count": 12,
     "metadata": {},
     "output_type": "execute_result"
    },
    {
     "data": {
      "image/png": "[encoded data removed]",
      "text/plain": [
       "<Figure size 640x480 with 1 Axes>"
      ]
     },
     "metadata": {},
     "output_type": "display_data"
    }
   ],
   "source": [
    "plt.imshow(x_train[0])"
   ]
  },
  {
   "cell_type": "code",
   "execution_count": 19,
   "id": "cf539cbb-2d00-4506-bb4a-9ab42920c6cd",
   "metadata": {},
   "outputs": [
    {
     "data": {
      "text/plain": [
       "5"
      ]
     },
     "execution_count": 19,
     "metadata": {},
     "output_type": "execute_result"
    }
   ],
   "source": [
    "y_train[0]"
   ]
  },
  {
   "cell_type": "code",
   "execution_count": 21,
   "id": "cea296c1-3420-4a9a-9433-ee5f964959e1",
   "metadata": {},
   "outputs": [],
   "source": [
    "### Preprocessing"
   ]
  },
  {
   "cell_type": "code",
   "execution_count": 22,
   "id": "0ebcc57a-4981-4c56-94df-a6c8650e55d6",
   "metadata": {},
   "outputs": [],
   "source": [
    "#One-hot encoding labels:"
   ]
  },
  {
   "cell_type": "code",
   "execution_count": 13,
   "id": "374ff53d-9167-46fd-9e2e-1a724e859b61",
   "metadata": {},
   "outputs": [],
   "source": [
    "from tensorflow.keras.utils import to_categorical"
   ]
  },
  {
   "cell_type": "code",
   "execution_count": 14,
   "id": "1d429575-160a-4bd4-aece-ea078e0ef4b2",
   "metadata": {},
   "outputs": [],
   "source": [
    "y_cat_test = to_categorical(y_test, num_classes=10)"
   ]
  },
  {
   "cell_type": "code",
   "execution_count": 15,
   "id": "6e4f002e-ff8c-468d-805c-e145b396832c",
   "metadata": {},
   "outputs": [],
   "source": [
    "y_cat_train = to_categorical(y_train, num_classes = 10)"
   ]
  },
  {
   "cell_type": "code",
   "execution_count": 35,
   "id": "ee56ca50-6d5e-4f1f-be8f-1eb68a5b7441",
   "metadata": {},
   "outputs": [],
   "source": [
    "#Scaling Data:"
   ]
  },
  {
   "cell_type": "code",
   "execution_count": 7,
   "id": "b8abaabc-bfe8-424c-ba81-096d24375b4d",
   "metadata": {},
   "outputs": [
    {
     "data": {
      "text/plain": [
       "(255, 0)"
      ]
     },
     "execution_count": 7,
     "metadata": {},
     "output_type": "execute_result"
    }
   ],
   "source": [
    "x_train[0].max(), x_train[0].min()"
   ]
  },
  {
   "cell_type": "code",
   "execution_count": 16,
   "id": "6c727b41-63d0-4b08-b7ee-5a55c1ec038a",
   "metadata": {},
   "outputs": [],
   "source": [
    "x_train = x_train / 255\n",
    "y_train = y_train / 255"
   ]
  },
  {
   "cell_type": "code",
   "execution_count": 9,
   "id": "72be2fe8-a629-46f5-9dd4-026d4a01c52d",
   "metadata": {},
   "outputs": [
    {
     "data": {
      "text/plain": [
       "<matplotlib.image.AxesImage at 0x7f81c95e0100>"
      ]
     },
     "execution_count": 9,
     "metadata": {},
     "output_type": "execute_result"
    },
    {
     "data": {
      "image/png": "[encoded data removed]",
      "text/plain": [
       "<Figure size 640x480 with 1 Axes>"
      ]
     },
     "metadata": {},
     "output_type": "display_data"
    }
   ],
   "source": [
    "plt.imshow(x_train[0])"
   ]
  },
  {
   "cell_type": "code",
   "execution_count": 57,
   "id": "acb62f22-2af1-4324-9ceb-7e0732924692",
   "metadata": {},
   "outputs": [],
   "source": [
    "### Reshaping Data:"
   ]
  },
  {
   "cell_type": "code",
   "execution_count": 49,
   "id": "11975518-d36a-424e-be7b-007d1e4615b4",
   "metadata": {},
   "outputs": [
    {
     "data": {
      "text/plain": [
       "((60000, 28, 28), (10000, 28, 28))"
      ]
     },
     "execution_count": 49,
     "metadata": {},
     "output_type": "execute_result"
    }
   ],
   "source": [
    "x_train.shape, x_test.shape"
   ]
  },
  {
   "cell_type": "code",
   "execution_count": 17,
   "id": "33c16aef-be42-4d83-a6dc-3a85a565ff57",
   "metadata": {},
   "outputs": [],
   "source": [
    "x_train = x_train.reshape(60000, 28, 28, 1) #1 so images are in 1 color channel"
   ]
  },
  {
   "cell_type": "code",
   "execution_count": 18,
   "id": "e4df63e6-1f4a-464b-b39f-cb2dbe66575a",
   "metadata": {},
   "outputs": [],
   "source": [
    "x_test = x_test.reshape(10000, 28, 28, 1)"
   ]
  },
  {
   "cell_type": "code",
   "execution_count": 55,
   "id": "5bee73bd-3001-4a5b-82b4-74ad89a1fd35",
   "metadata": {},
   "outputs": [],
   "source": [
    "#Building + Training Model"
   ]
  },
  {
   "cell_type": "code",
   "execution_count": 19,
   "id": "98188cc5-a68d-4b28-9b3b-0f139f50c901",
   "metadata": {},
   "outputs": [],
   "source": [
    "from tensorflow.keras.models import Sequential\n",
    "from tensorflow.keras.layers import Dense, Conv2D, Flatten, MaxPool2D"
   ]
  },
  {
   "cell_type": "code",
   "execution_count": 13,
   "id": "65620f7f-809b-44a2-852c-92329b30f1fe",
   "metadata": {},
   "outputs": [],
   "source": [
    "model = Sequential()\n",
    "\n",
    "#Conv'l Layer:\n",
    "model.add(Conv2D(filters = 32, kernel_size=(4,4), input_shape = (28,28,1), activation='relu'))\n",
    "\n",
    "#Pooling Layer:\n",
    "model.add(MaxPool2D(pool_size=(2,2)))\n",
    "\n",
    "#Flattening Layer to then be passed into a dense layer:\n",
    "model.add(Flatten())\n",
    "\n",
    "#Dense Layer:\n",
    "model.add(Dense(units=128, activation='relu'))\n",
    "\n",
    "#Output Layer:\n",
    "model.add(Dense(units=10, activation='softmax'))\n",
    "\n",
    "model.compile(loss='categorical_crossentropy', optimizer='adam', metrics=['accuracy'])"
   ]
  },
  {
   "cell_type": "code",
   "execution_count": 20,
   "id": "544b0f1a-4dbb-461e-a18d-38978845d883",
   "metadata": {},
   "outputs": [],
   "source": [
    "#Going to include early stopping:\n",
    "from tensorflow.keras.callbacks import EarlyStopping"
   ]
  },
  {
   "cell_type": "code",
   "execution_count": 41,
   "id": "2f16c734-f0a4-4435-a1a9-52294148c347",
   "metadata": {},
   "outputs": [],
   "source": [
    "early_stop = EarlyStopping(monitor = 'val_loss', patience = 2)"
   ]
  },
  {
   "cell_type": "code",
   "execution_count": 67,
   "id": "63638fbd-621a-4f48-8b5e-cbf735fc71c6",
   "metadata": {},
   "outputs": [],
   "source": [
    "## Training the Model"
   ]
  },
  {
   "cell_type": "code",
   "execution_count": 16,
   "id": "f527e7fe-c938-4651-af35-c263a18d0eb2",
   "metadata": {},
   "outputs": [
    {
     "name": "stdout",
     "output_type": "stream",
     "text": [
      "Epoch 1/10\n",
      "1875/1875 [==============================] - 32s 17ms/step - loss: 0.1436 - accuracy: 0.9575 - val_loss: 21.9727 - val_accuracy: 0.9547\n",
      "Epoch 2/10\n",
      "1875/1875 [==============================] - 34s 18ms/step - loss: 0.0498 - accuracy: 0.9845 - val_loss: 27.5776 - val_accuracy: 0.9568\n",
      "Epoch 3/10\n",
      "1875/1875 [==============================] - 32s 17ms/step - loss: 0.0320 - accuracy: 0.9899 - val_loss: 24.1409 - val_accuracy: 0.9646\n"
     ]
    },
    {
     "data": {
      "text/plain": [
       "<keras.callbacks.History at 0x7f81bcd77d90>"
      ]
     },
     "execution_count": 16,
     "metadata": {},
     "output_type": "execute_result"
    }
   ],
   "source": [
    "model.fit(x = x_train, y = y_cat_train, callbacks=[early_stop], epochs = 10,\n",
    "         validation_data=(x_test, y_cat_test))"
   ]
  },
  {
   "cell_type": "code",
   "execution_count": 17,
   "id": "fb98c2c2-3d7f-42b4-9176-997301fd0c75",
   "metadata": {},
   "outputs": [],
   "source": [
    "metrics = pd.DataFrame(model.history.history)"
   ]
  },
  {
   "cell_type": "code",
   "execution_count": 18,
   "id": "7d29ed54-a1e6-4bc0-b291-0742bcdce0d0",
   "metadata": {},
   "outputs": [
    {
     "data": {
      "text/html": [
       "<div>\n",
       "<style scoped>\n",
       "    .dataframe tbody tr th:only-of-type {\n",
       "        vertical-align: middle;\n",
       "    }\n",
       "\n",
       "    .dataframe tbody tr th {\n",
       "        vertical-align: top;\n",
       "    }\n",
       "\n",
       "    .dataframe thead th {\n",
       "        text-align: right;\n",
       "    }\n",
       "</style>\n",
       "<table border=\"1\" class=\"dataframe\">\n",
       "  <thead>\n",
       "    <tr style=\"text-align: right;\">\n",
       "      <th></th>\n",
       "      <th>loss</th>\n",
       "      <th>accuracy</th>\n",
       "      <th>val_loss</th>\n",
       "      <th>val_accuracy</th>\n",
       "    </tr>\n",
       "  </thead>\n",
       "  <tbody>\n",
       "    <tr>\n",
       "      <th>0</th>\n",
       "      <td>0.143649</td>\n",
       "      <td>0.957533</td>\n",
       "      <td>21.972696</td>\n",
       "      <td>0.9547</td>\n",
       "    </tr>\n",
       "    <tr>\n",
       "      <th>1</th>\n",
       "      <td>0.049827</td>\n",
       "      <td>0.984550</td>\n",
       "      <td>27.577612</td>\n",
       "      <td>0.9568</td>\n",
       "    </tr>\n",
       "    <tr>\n",
       "      <th>2</th>\n",
       "      <td>0.032004</td>\n",
       "      <td>0.989867</td>\n",
       "      <td>24.140940</td>\n",
       "      <td>0.9646</td>\n",
       "    </tr>\n",
       "  </tbody>\n",
       "</table>\n",
       "</div>"
      ],
      "text/plain": [
       "       loss  accuracy   val_loss  val_accuracy\n",
       "0  0.143649  0.957533  21.972696        0.9547\n",
       "1  0.049827  0.984550  27.577612        0.9568\n",
       "2  0.032004  0.989867  24.140940        0.9646"
      ]
     },
     "execution_count": 18,
     "metadata": {},
     "output_type": "execute_result"
    }
   ],
   "source": [
    "metrics.head()"
   ]
  },
  {
   "cell_type": "code",
   "execution_count": 19,
   "id": "f3c2d06c-5c9c-4d60-9069-ab76b979867b",
   "metadata": {},
   "outputs": [
    {
     "data": {
      "text/plain": [
       "<Axes: >"
      ]
     },
     "execution_count": 19,
     "metadata": {},
     "output_type": "execute_result"
    },
    {
     "data": {
      "image/png": "[encoded data removed]",
      "text/plain": [
       "<Figure size 640x480 with 1 Axes>"
      ]
     },
     "metadata": {},
     "output_type": "display_data"
    }
   ],
   "source": [
    "metrics[['accuracy', 'val_accuracy']].plot()"
   ]
  },
  {
   "cell_type": "code",
   "execution_count": 20,
   "id": "5eb2b5b6-529d-4e87-82e3-7189e7b25a33",
   "metadata": {},
   "outputs": [
    {
     "data": {
      "text/plain": [
       "<Axes: >"
      ]
     },
     "execution_count": 20,
     "metadata": {},
     "output_type": "execute_result"
    },
    {
     "data": {
      "image/png": "[encoded data removed]",
      "text/plain": [
       "<Figure size 640x480 with 1 Axes>"
      ]
     },
     "metadata": {},
     "output_type": "display_data"
    }
   ],
   "source": [
    "metrics[['loss', 'val_loss']].plot()"
   ]
  },
  {
   "cell_type": "code",
   "execution_count": null,
   "id": "3edaf4d7-638b-4809-ab80-ae9918687e94",
   "metadata": {},
   "outputs": [],
   "source": []
  },
  {
   "cell_type": "code",
   "execution_count": 23,
   "id": "c388fced-d3be-4fbb-9585-b4c446bade20",
   "metadata": {},
   "outputs": [
    {
     "name": "stdout",
     "output_type": "stream",
     "text": [
      "[24.140939712524414, 0.9646000266075134]\n"
     ]
    }
   ],
   "source": [
    "print(model.evaluate(x_test, y_cat_test, verbose=0))"
   ]
  },
  {
   "cell_type": "code",
   "execution_count": 24,
   "id": "75de6082-fc40-44b6-8eb1-20cc38eeb1a0",
   "metadata": {},
   "outputs": [],
   "source": [
    "## Changing Model parameters to see if accuracy can be increased:"
   ]
  },
  {
   "cell_type": "code",
   "execution_count": 42,
   "id": "2b5a8ff3-b817-472f-a9a1-0401b11c9efc",
   "metadata": {},
   "outputs": [],
   "source": [
    "model = Sequential()\n",
    "\n",
    "#Conv'l Layer:\n",
    "model.add(Conv2D(filters = 64, kernel_size=(3,3), input_shape = (28,28,1), activation='relu'))\n",
    "\n",
    "#Pooling Layer:\n",
    "model.add(MaxPool2D(pool_size=(2,2)))\n",
    "\n",
    "#Flattening Layer to then be passed into a dense layer:\n",
    "model.add(Flatten())\n",
    "\n",
    "#Dense Layer:\n",
    "model.add(Dense(units=264, activation='relu'))\n",
    "\n",
    "#Output Layer:\n",
    "model.add(Dense(units=10, activation='softmax'))\n",
    "\n",
    "model.compile(loss='categorical_crossentropy', optimizer='adam', metrics=['accuracy'])"
   ]
  },
  {
   "cell_type": "code",
   "execution_count": 43,
   "id": "e61648e2-d54a-4a2f-b1a1-8411084924e8",
   "metadata": {},
   "outputs": [],
   "source": [
    "early_stop = EarlyStopping(monitor = 'val_loss', patience = 3)"
   ]
  },
  {
   "cell_type": "code",
   "execution_count": 2,
   "id": "4ed06ef8-b93d-4bb6-8b12-d5930db635c2",
   "metadata": {},
   "outputs": [],
   "source": [
    "#Using low amount of epochs due to extended training times"
   ]
  },
  {
   "cell_type": "code",
   "execution_count": 44,
   "id": "33c3534e-5d5d-4e98-9bf4-34fcbf48edcc",
   "metadata": {},
   "outputs": [
    {
     "name": "stdout",
     "output_type": "stream",
     "text": [
      "Epoch 1/10\n",
      "1875/1875 [==============================] - 91s 48ms/step - loss: 0.1280 - accuracy: 0.9611 - val_loss: 43.1106 - val_accuracy: 0.9338\n",
      "Epoch 2/10\n",
      "1875/1875 [==============================] - 96s 51ms/step - loss: 0.0423 - accuracy: 0.9863 - val_loss: 35.3839 - val_accuracy: 0.9524\n",
      "Epoch 3/10\n",
      "1875/1875 [==============================] - 93s 50ms/step - loss: 0.0248 - accuracy: 0.9919 - val_loss: 40.7299 - val_accuracy: 0.9529\n",
      "Epoch 4/10\n",
      "1875/1875 [==============================] - 88s 47ms/step - loss: 0.0150 - accuracy: 0.9948 - val_loss: 26.7844 - val_accuracy: 0.9703\n",
      "Epoch 5/10\n",
      "1875/1875 [==============================] - 108s 58ms/step - loss: 0.0100 - accuracy: 0.9967 - val_loss: 79.1866 - val_accuracy: 0.9395\n",
      "Epoch 6/10\n",
      "1875/1875 [==============================] - 90s 48ms/step - loss: 0.0086 - accuracy: 0.9969 - val_loss: 55.9110 - val_accuracy: 0.9603\n",
      "Epoch 7/10\n",
      "1875/1875 [==============================] - 91s 49ms/step - loss: 0.0057 - accuracy: 0.9983 - val_loss: 52.9799 - val_accuracy: 0.9626\n"
     ]
    },
    {
     "data": {
      "text/plain": [
       "<keras.callbacks.History at 0x7f819221b130>"
      ]
     },
     "execution_count": 44,
     "metadata": {},
     "output_type": "execute_result"
    }
   ],
   "source": [
    "model.fit(x = x_train, y = y_cat_train, callbacks=[early_stop], epochs = 10,\n",
    "         validation_data=(x_test, y_cat_test))"
   ]
  },
  {
   "cell_type": "code",
   "execution_count": 25,
   "id": "ee014a1f-81fe-4aeb-b577-ea106537395f",
   "metadata": {},
   "outputs": [],
   "source": [
    "#Back to old model with a few adjusted parameters and a dropout layer added:"
   ]
  },
  {
   "cell_type": "code",
   "execution_count": 24,
   "id": "89af13aa-851e-463e-9894-9e8f6f352b1f",
   "metadata": {},
   "outputs": [],
   "source": [
    "from tensorflow.keras.layers import Dropout"
   ]
  },
  {
   "cell_type": "code",
   "execution_count": 21,
   "id": "59550e79-03ef-4e11-a3ba-afe4f2ecdfc3",
   "metadata": {},
   "outputs": [],
   "source": [
    "early_stop = EarlyStopping(monitor = 'val_loss', patience = 2)"
   ]
  },
  {
   "cell_type": "code",
   "execution_count": 52,
   "id": "fef3c64c-efc7-4813-ad33-f055cb111b49",
   "metadata": {},
   "outputs": [],
   "source": [
    "model = Sequential()\n",
    "\n",
    "#Conv'l Layer:\n",
    "model.add(Conv2D(filters = 32, kernel_size=(4,4), input_shape = (28,28,1), activation='relu'))\n",
    "\n",
    "#Pooling Layer:\n",
    "model.add(MaxPool2D(pool_size=(2,2)))\n",
    "\n",
    "#Flattening Layer to then be passed into a dense layer:\n",
    "model.add(Flatten())\n",
    "\n",
    "#Dense Layer:\n",
    "model.add(Dense(units=256, activation='relu')) #More neurons used in dense layer\n",
    "model.add(Dropout(0.2))\n",
    "#Output Layer:\n",
    "model.add(Dense(units=10, activation='softmax'))\n",
    "\n",
    "model.compile(loss='categorical_crossentropy', optimizer='adam', metrics=['accuracy'])"
   ]
  },
  {
   "cell_type": "code",
   "execution_count": 27,
   "id": "15b00e83-310f-4b44-b739-c35555b61ec5",
   "metadata": {},
   "outputs": [
    {
     "name": "stdout",
     "output_type": "stream",
     "text": [
      "Epoch 1/10\n",
      "1875/1875 [==============================] - 42s 22ms/step - loss: 0.1384 - accuracy: 0.9578 - val_loss: 12.4175 - val_accuracy: 0.9743\n",
      "Epoch 2/10\n",
      "1875/1875 [==============================] - 49s 26ms/step - loss: 0.0480 - accuracy: 0.9852 - val_loss: 20.4783 - val_accuracy: 0.9667\n",
      "Epoch 3/10\n",
      "1875/1875 [==============================] - 48s 26ms/step - loss: 0.0314 - accuracy: 0.9900 - val_loss: 18.1023 - val_accuracy: 0.9729\n"
     ]
    },
    {
     "data": {
      "text/plain": [
       "<keras.callbacks.History at 0x7facc94039d0>"
      ]
     },
     "execution_count": 27,
     "metadata": {},
     "output_type": "execute_result"
    }
   ],
   "source": [
    "model.fit(x = x_train, y = y_cat_train, callbacks=[early_stop], epochs = 10,\n",
    "         validation_data=(x_test, y_cat_test))"
   ]
  },
  {
   "cell_type": "code",
   "execution_count": 28,
   "id": "f6dad631-ecec-4bcd-866b-77f8cb519bee",
   "metadata": {},
   "outputs": [],
   "source": [
    "new_metrics = pd.DataFrame(model.history.history)"
   ]
  },
  {
   "cell_type": "code",
   "execution_count": 29,
   "id": "3c20a10b-bfa5-419d-8c52-c791f5dbc6fb",
   "metadata": {},
   "outputs": [
    {
     "data": {
      "text/html": [
       "<div>\n",
       "<style scoped>\n",
       "    .dataframe tbody tr th:only-of-type {\n",
       "        vertical-align: middle;\n",
       "    }\n",
       "\n",
       "    .dataframe tbody tr th {\n",
       "        vertical-align: top;\n",
       "    }\n",
       "\n",
       "    .dataframe thead th {\n",
       "        text-align: right;\n",
       "    }\n",
       "</style>\n",
       "<table border=\"1\" class=\"dataframe\">\n",
       "  <thead>\n",
       "    <tr style=\"text-align: right;\">\n",
       "      <th></th>\n",
       "      <th>loss</th>\n",
       "      <th>accuracy</th>\n",
       "      <th>val_loss</th>\n",
       "      <th>val_accuracy</th>\n",
       "    </tr>\n",
       "  </thead>\n",
       "  <tbody>\n",
       "    <tr>\n",
       "      <th>0</th>\n",
       "      <td>0.138409</td>\n",
       "      <td>0.957783</td>\n",
       "      <td>12.417511</td>\n",
       "      <td>0.9743</td>\n",
       "    </tr>\n",
       "    <tr>\n",
       "      <th>1</th>\n",
       "      <td>0.047984</td>\n",
       "      <td>0.985200</td>\n",
       "      <td>20.478268</td>\n",
       "      <td>0.9667</td>\n",
       "    </tr>\n",
       "    <tr>\n",
       "      <th>2</th>\n",
       "      <td>0.031406</td>\n",
       "      <td>0.990000</td>\n",
       "      <td>18.102264</td>\n",
       "      <td>0.9729</td>\n",
       "    </tr>\n",
       "  </tbody>\n",
       "</table>\n",
       "</div>"
      ],
      "text/plain": [
       "       loss  accuracy   val_loss  val_accuracy\n",
       "0  0.138409  0.957783  12.417511        0.9743\n",
       "1  0.047984  0.985200  20.478268        0.9667\n",
       "2  0.031406  0.990000  18.102264        0.9729"
      ]
     },
     "execution_count": 29,
     "metadata": {},
     "output_type": "execute_result"
    }
   ],
   "source": [
    "new_metrics.head()"
   ]
  },
  {
   "cell_type": "code",
   "execution_count": 30,
   "id": "6237f417-a43d-41c3-bb68-1c97a6f0b6c0",
   "metadata": {},
   "outputs": [
    {
     "data": {
      "text/plain": [
       "Index(['loss', 'accuracy', 'val_loss', 'val_accuracy'], dtype='object')"
      ]
     },
     "execution_count": 30,
     "metadata": {},
     "output_type": "execute_result"
    }
   ],
   "source": [
    "new_metrics.columns"
   ]
  },
  {
   "cell_type": "code",
   "execution_count": 31,
   "id": "06a836a0-5ed7-46a8-b5ce-de013873f5a9",
   "metadata": {},
   "outputs": [
    {
     "data": {
      "text/plain": [
       "<Axes: >"
      ]
     },
     "execution_count": 31,
     "metadata": {},
     "output_type": "execute_result"
    },
    {
     "data": {
      "image/png": "[encoded data removed]",
      "text/plain": [
       "<Figure size 640x480 with 1 Axes>"
      ]
     },
     "metadata": {},
     "output_type": "display_data"
    }
   ],
   "source": [
    "new_metrics[['loss', 'val_loss']].plot()"
   ]
  },
  {
   "cell_type": "code",
   "execution_count": 32,
   "id": "421ef33d-a383-4324-993b-4eda44a27eda",
   "metadata": {},
   "outputs": [
    {
     "data": {
      "text/plain": [
       "<Axes: >"
      ]
     },
     "execution_count": 32,
     "metadata": {},
     "output_type": "execute_result"
    },
    {
     "data": {
      "image/png": "[encoded data removed]",
      "text/plain": [
       "<Figure size 640x480 with 1 Axes>"
      ]
     },
     "metadata": {},
     "output_type": "display_data"
    }
   ],
   "source": [
    "new_metrics[['accuracy', 'val_accuracy']].plot()"
   ]
  },
  {
   "cell_type": "code",
   "execution_count": 34,
   "id": "b5e0d8cc-7cfc-45ee-b0f4-146abb3dfa1e",
   "metadata": {},
   "outputs": [
    {
     "name": "stdout",
     "output_type": "stream",
     "text": [
      "313/313 [==============================] - 2s 5ms/step - loss: 18.1023 - accuracy: 0.9729\n"
     ]
    },
    {
     "data": {
      "text/plain": [
       "[18.102264404296875, 0.9728999733924866]"
      ]
     },
     "execution_count": 34,
     "metadata": {},
     "output_type": "execute_result"
    }
   ],
   "source": [
    "model.evaluate(x_test, y_cat_test)"
   ]
  },
  {
   "cell_type": "code",
   "execution_count": 37,
   "id": "dbaf41ff-1ce7-4938-8af7-9321bfcd783f",
   "metadata": {},
   "outputs": [
    {
     "name": "stdout",
     "output_type": "stream",
     "text": [
      "313/313 [==============================] - 2s 5ms/step\n"
     ]
    }
   ],
   "source": [
    "predictions = np.argmax(model.predict(x_test), axis=-1)"
   ]
  },
  {
   "cell_type": "code",
   "execution_count": 39,
   "id": "69693a37-d553-468b-b8c2-30b7ca854aa7",
   "metadata": {},
   "outputs": [],
   "source": [
    "from sklearn.metrics import confusion_matrix, classification_report"
   ]
  },
  {
   "cell_type": "code",
   "execution_count": 38,
   "id": "d61bb982-ec71-4b58-82bb-9953aad82f01",
   "metadata": {},
   "outputs": [
    {
     "name": "stdout",
     "output_type": "stream",
     "text": [
      "[[ 969    0    0    0    0    0    2    1    8    0]\n",
      " [   0 1100    0    2    0    0    2    0   31    0]\n",
      " [   1    0  967    1    1    0    3   12   47    0]\n",
      " [   0    0    2  976    0    3    0    2   22    5]\n",
      " [   0    0    2    0  969    0    0    0    5    6]\n",
      " [   4    0    0    6    0  842    7    1   25    7]\n",
      " [   2    1    0    0    2    1  939    0   13    0]\n",
      " [   0    0    3    1    0    0    0 1008   12    4]\n",
      " [   2    0    0    0    0    0    0    0  971    1]\n",
      " [   0    0    0    0    3    0    0    2   16  988]]\n"
     ]
    }
   ],
   "source": [
    "print(confusion_matrix(y_test, predictions))"
   ]
  },
  {
   "cell_type": "code",
   "execution_count": 40,
   "id": "9a38e7e5-c25b-4d01-b761-a489eae363cd",
   "metadata": {},
   "outputs": [
    {
     "name": "stdout",
     "output_type": "stream",
     "text": [
      "              precision    recall  f1-score   support\n",
      "\n",
      "           0       0.99      0.99      0.99       980\n",
      "           1       1.00      0.97      0.98      1135\n",
      "           2       0.99      0.94      0.96      1032\n",
      "           3       0.99      0.97      0.98      1010\n",
      "           4       0.99      0.99      0.99       982\n",
      "           5       1.00      0.94      0.97       892\n",
      "           6       0.99      0.98      0.98       958\n",
      "           7       0.98      0.98      0.98      1028\n",
      "           8       0.84      1.00      0.91       974\n",
      "           9       0.98      0.98      0.98      1009\n",
      "\n",
      "    accuracy                           0.97     10000\n",
      "   macro avg       0.98      0.97      0.97     10000\n",
      "weighted avg       0.98      0.97      0.97     10000\n",
      "\n"
     ]
    }
   ],
   "source": [
    "print(classification_report(y_test, predictions))"
   ]
  },
  {
   "cell_type": "code",
   "execution_count": 50,
   "id": "bdb96615-29a6-4e31-8334-8cb5a6adaf9e",
   "metadata": {},
   "outputs": [],
   "source": [
    "## Accuracy could be further improved through data augmentation, different optimizers/loss functions, more layers and filters, \n",
    "#L1 / L2 regularization, different pooling methods, etc."
   ]
  },
  {
   "cell_type": "code",
   "execution_count": 51,
   "id": "edc04592-ea11-45c8-98de-15bb0d27735a",
   "metadata": {},
   "outputs": [],
   "source": [
    "#Predicting a single image:"
   ]
  },
  {
   "cell_type": "code",
   "execution_count": 44,
   "id": "7b32b53c-4ea9-4b2d-a76e-de73f3bce4a8",
   "metadata": {},
   "outputs": [],
   "source": [
    "img_to_predict = x_test[0]"
   ]
  },
  {
   "cell_type": "code",
   "execution_count": 45,
   "id": "37674a92-c298-40a2-b771-1cfb936c7bb5",
   "metadata": {},
   "outputs": [
    {
     "data": {
      "text/plain": [
       "(28, 28, 1)"
      ]
     },
     "execution_count": 45,
     "metadata": {},
     "output_type": "execute_result"
    }
   ],
   "source": [
    "img_to_predict.shape"
   ]
  },
  {
   "cell_type": "code",
   "execution_count": 46,
   "id": "8acd305a-2ace-4907-89e4-5d6b4e14bd7b",
   "metadata": {},
   "outputs": [
    {
     "data": {
      "text/plain": [
       "<matplotlib.image.AxesImage at 0x7faccf1e0a90>"
      ]
     },
     "execution_count": 46,
     "metadata": {},
     "output_type": "execute_result"
    },
    {
     "data": {
      "image/png": "[encoded data removed]",
      "text/plain": [
       "<Figure size 640x480 with 1 Axes>"
      ]
     },
     "metadata": {},
     "output_type": "display_data"
    }
   ],
   "source": [
    "plt.imshow(img_to_predict.reshape(28,28))"
   ]
  },
  {
   "cell_type": "code",
   "execution_count": 48,
   "id": "e2ea2fdb-035b-4125-b5f3-d7f6f5b760f3",
   "metadata": {},
   "outputs": [
    {
     "name": "stdout",
     "output_type": "stream",
     "text": [
      "1/1 [==============================] - 0s 43ms/step\n"
     ]
    },
    {
     "data": {
      "text/plain": [
       "array([7])"
      ]
     },
     "execution_count": 48,
     "metadata": {},
     "output_type": "execute_result"
    }
   ],
   "source": [
    "np.argmax(model.predict(img_to_predict.reshape(1,28,28,1)), axis=-1) #Dimensions: (num_imgs, img_width, img_height, color channels)"
   ]
  },
  {
   "cell_type": "code",
   "execution_count": 49,
   "id": "0c7c9cd7-1a69-42a3-ab91-a2b2b1f42bba",
   "metadata": {},
   "outputs": [
    {
     "data": {
      "text/plain": [
       "7"
      ]
     },
     "execution_count": 49,
     "metadata": {},
     "output_type": "execute_result"
    }
   ],
   "source": [
    "y_test[0]"
   ]
  }
 ],
 "metadata": {
  "kernelspec": {
   "display_name": "Python 3 (ipykernel)",
   "language": "python",
   "name": "python3"
  },
  "language_info": {
   "codemirror_mode": {
    "name": "ipython",
    "version": 3
   },
   "file_extension": ".py",
   "mimetype": "text/x-python",
   "name": "python",
   "nbconvert_exporter": "python",
   "pygments_lexer": "ipython3",
   "version": "3.9.18"
  }
 },
 "nbformat": 4,
 "nbformat_minor": 5
}
